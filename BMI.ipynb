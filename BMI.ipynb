{
  "nbformat": 4,
  "nbformat_minor": 0,
  "metadata": {
    "colab": {
      "provenance": [],
      "authorship_tag": "ABX9TyNhE9wZm5B3CgfjhrZnSkud",
      "include_colab_link": true
    },
    "kernelspec": {
      "name": "python3",
      "display_name": "Python 3"
    },
    "language_info": {
      "name": "python"
    }
  },
  "cells": [
    {
      "cell_type": "markdown",
      "metadata": {
        "id": "view-in-github",
        "colab_type": "text"
      },
      "source": [
        "<a href=\"https://colab.research.google.com/github/niikun/kujira/blob/main/BMI.ipynb\" target=\"_parent\"><img src=\"https://colab.research.google.com/assets/colab-badge.svg\" alt=\"Open In Colab\"/></a>"
      ]
    },
    {
      "cell_type": "markdown",
      "source": [
        "BMI = Kg / m**2"
      ],
      "metadata": {
        "id": "mWebD56azmDK"
      }
    },
    {
      "cell_type": "code",
      "execution_count": 4,
      "metadata": {
        "id": "b_6yRVoozd58",
        "colab": {
          "base_uri": "https://localhost:8080/"
        },
        "outputId": "53f040aa-9683-4c79-a1d8-acbc47a2144a"
      },
      "outputs": [
        {
          "output_type": "stream",
          "name": "stdout",
          "text": [
            "BMIを計算します\n",
            "体重をKgで入力して下さい85\n",
            "身長をmで入力してください1.72\n",
            "28.73174689021093\n"
          ]
        }
      ],
      "source": [
        "print(\"BMIを計算します\")\n",
        "weight = input(\"体重をKgで入力して下さい\")\n",
        "height = input(\"身長をmで入力してください\")\n",
        "bmi = float(weight) / float(height) ** 2\n",
        "\n",
        "print(bmi)"
      ]
    },
    {
      "cell_type": "code",
      "source": [],
      "metadata": {
        "id": "Mx9NaS9o2bp5"
      },
      "execution_count": 3,
      "outputs": []
    }
  ]
}