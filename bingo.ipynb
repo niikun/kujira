{
  "nbformat": 4,
  "nbformat_minor": 0,
  "metadata": {
    "colab": {
      "provenance": [],
      "authorship_tag": "ABX9TyPMMAVdTYpChvDGQBDv1o55",
      "include_colab_link": true
    },
    "kernelspec": {
      "name": "python3",
      "display_name": "Python 3"
    },
    "language_info": {
      "name": "python"
    }
  },
  "cells": [
    {
      "cell_type": "markdown",
      "metadata": {
        "id": "view-in-github",
        "colab_type": "text"
      },
      "source": [
        "<a href=\"https://colab.research.google.com/github/niikun/kujira/blob/main/bingo.ipynb\" target=\"_parent\"><img src=\"https://colab.research.google.com/assets/colab-badge.svg\" alt=\"Open In Colab\"/></a>"
      ]
    },
    {
      "cell_type": "code",
      "execution_count": null,
      "metadata": {
        "id": "t1W5Y4ZaU_zQ"
      },
      "outputs": [],
      "source": [
        "import random"
      ]
    },
    {
      "cell_type": "code",
      "source": [
        "nums = list(range(1,76))\n",
        "random.shuffle(nums)\n",
        "nums[12]=\"*\"\n",
        "for y in range(5):\n",
        "    for x in range(5):\n",
        "        print(\"{:>3},\".format(nums[y*5+x]),end=\"\")\n",
        "        # print(\"{},\".format(nums[y*5+x]),end=\"\")\n",
        "    print(\"\")"
      ],
      "metadata": {
        "colab": {
          "base_uri": "https://localhost:8080/"
        },
        "id": "DkFkJrMcVC4q",
        "outputId": "98e63df9-6027-4941-c078-48a5e90341e5"
      },
      "execution_count": null,
      "outputs": [
        {
          "output_type": "stream",
          "name": "stdout",
          "text": [
            " 66, 37, 58, 39,  4,\n",
            "  5, 47, 29, 28, 55,\n",
            " 69, 42,  *, 32,  3,\n",
            " 14,  7, 26, 62, 40,\n",
            " 30, 75, 25, 49, 45,\n"
          ]
        }
      ]
    },
    {
      "cell_type": "code",
      "source": [
        "eval = [\"c\",\"c\",\"a\",\"a\",\"a\",\"b\",\"c\",\"c\",\"b\",\"b\",\"b\",\"c\",\"b\",\"c\",\"b\",\"a\",\"c\",\"c\",\"b\",\"c\",\"c\",\"c\"]"
      ],
      "metadata": {
        "id": "qO_Wk09so01Y"
      },
      "execution_count": 2,
      "outputs": []
    },
    {
      "cell_type": "code",
      "source": [
        "def get_set(val):\n",
        "    return set(val)\n",
        "get_set(eval)"
      ],
      "metadata": {
        "colab": {
          "base_uri": "https://localhost:8080/"
        },
        "id": "ZQ8HGub8o4bZ",
        "outputId": "cd4850b4-cb4f-4e10-8641-b4d5662cd12d"
      },
      "execution_count": 3,
      "outputs": [
        {
          "output_type": "execute_result",
          "data": {
            "text/plain": [
              "{'a', 'b', 'c'}"
            ]
          },
          "metadata": {},
          "execution_count": 3
        }
      ]
    },
    {
      "cell_type": "code",
      "source": [
        "def get_count(val):\n",
        "    eval_count={}\n",
        "    eval_set = set(eval)\n",
        "    for i in eval_set:\n",
        "        for j in eval:\n",
        "            if i == j:\n",
        "                if i in eval_count:\n",
        "                    eval_count[i] += 1\n",
        "                else:\n",
        "                    eval_count[i] = 1\n",
        "    eval_count = dict(sorted(eval_count.items(), key=lambda x:x[0]))\n",
        "    return eval_count"
      ],
      "metadata": {
        "id": "07LxkDFlVH3g"
      },
      "execution_count": 8,
      "outputs": []
    },
    {
      "cell_type": "code",
      "source": [
        "get_count(eval)"
      ],
      "metadata": {
        "colab": {
          "base_uri": "https://localhost:8080/"
        },
        "id": "RCUoQqEbqV3g",
        "outputId": "b53b6767-623b-4142-c737-fc4126f1cd82"
      },
      "execution_count": 9,
      "outputs": [
        {
          "output_type": "execute_result",
          "data": {
            "text/plain": [
              "{'a': 4, 'b': 7, 'c': 11}"
            ]
          },
          "metadata": {},
          "execution_count": 9
        }
      ]
    },
    {
      "cell_type": "code",
      "source": [
        "class Evaluation:\n",
        "    def __init__(self,eval):\n",
        "        self.eval = eval\n",
        "\n",
        "    def get_set(self):\n",
        "        return set(self.eval)\n",
        "\n",
        "    def get_count(self):\n",
        "        eval_count={}\n",
        "        eval_set = set(self.eval)\n",
        "        for i in eval_set:\n",
        "            for j in eval:\n",
        "                if i == j:\n",
        "                    if i in eval_count:\n",
        "                        eval_count[i] += 1\n",
        "                    else:\n",
        "                        eval_count[i] = 1\n",
        "        eval_count = dict(sorted(eval_count.items()))\n",
        "        return eval_count\n",
        "\n",
        ""
      ],
      "metadata": {
        "id": "h8VpowTTrFph"
      },
      "execution_count": 32,
      "outputs": []
    },
    {
      "cell_type": "code",
      "source": [
        "enq = Evaluation(eval)"
      ],
      "metadata": {
        "id": "lgxdFryIrhVm"
      },
      "execution_count": 33,
      "outputs": []
    },
    {
      "cell_type": "code",
      "source": [
        "print(enq.get_count())"
      ],
      "metadata": {
        "colab": {
          "base_uri": "https://localhost:8080/"
        },
        "id": "aRhVxAz-rn0V",
        "outputId": "d5b2c52c-2a3a-4b37-d42c-6559831a5180"
      },
      "execution_count": 34,
      "outputs": [
        {
          "output_type": "stream",
          "name": "stdout",
          "text": [
            "{'a': 4, 'b': 7, 'c': 11}\n"
          ]
        }
      ]
    },
    {
      "cell_type": "code",
      "source": [
        " b\n",
        "\n",
        ""
      ],
      "metadata": {
        "id": "IcN-LWcXtlk9"
      },
      "execution_count": null,
      "outputs": []
    },
    {
      "cell_type": "code",
      "source": [
        "data = list(input(\"データを入れてください\").split())\n"
      ],
      "metadata": {
        "colab": {
          "base_uri": "https://localhost:8080/"
        },
        "id": "7gTXVgLSrvtt",
        "outputId": "28d37c42-4046-434a-b05a-291d43e2c767"
      },
      "execution_count": 36,
      "outputs": [
        {
          "name": "stdout",
          "output_type": "stream",
          "text": [
            "データを入れてくださいa b c c a b\n"
          ]
        }
      ]
    },
    {
      "cell_type": "code",
      "source": [
        "data"
      ],
      "metadata": {
        "colab": {
          "base_uri": "https://localhost:8080/"
        },
        "id": "wS5qwA0ptihr",
        "outputId": "55c4ab09-942f-426c-a665-d6f34d1586cf"
      },
      "execution_count": 37,
      "outputs": [
        {
          "output_type": "execute_result",
          "data": {
            "text/plain": [
              "['a', 'b', 'c', 'c', 'a', 'b']"
            ]
          },
          "metadata": {},
          "execution_count": 37
        }
      ]
    }
  ]
}