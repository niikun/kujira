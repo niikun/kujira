{
  "nbformat": 4,
  "nbformat_minor": 0,
  "metadata": {
    "colab": {
      "provenance": [],
      "authorship_tag": "ABX9TyOaIN9ikUh0oq4orKyp8+nb",
      "include_colab_link": true
    },
    "kernelspec": {
      "name": "python3",
      "display_name": "Python 3"
    },
    "language_info": {
      "name": "python"
    }
  },
  "cells": [
    {
      "cell_type": "markdown",
      "metadata": {
        "id": "view-in-github",
        "colab_type": "text"
      },
      "source": [
        "<a href=\"https://colab.research.google.com/github/niikun/kujira/blob/main/bingo.ipynb\" target=\"_parent\"><img src=\"https://colab.research.google.com/assets/colab-badge.svg\" alt=\"Open In Colab\"/></a>"
      ]
    },
    {
      "cell_type": "code",
      "execution_count": 3,
      "metadata": {
        "id": "t1W5Y4ZaU_zQ"
      },
      "outputs": [],
      "source": [
        "import random"
      ]
    },
    {
      "cell_type": "code",
      "source": [
        "nums = list(range(1,76))\n",
        "random.shuffle(nums)\n",
        "nums[12]=\"*\"\n",
        "for y in range(5):\n",
        "    for x in range(5):\n",
        "        print(\"{:>3},\".format(nums[y*5+x]),end=\"\")\n",
        "        # print(\"{},\".format(nums[y*5+x]),end=\"\")\n",
        "    print(\"\")"
      ],
      "metadata": {
        "colab": {
          "base_uri": "https://localhost:8080/"
        },
        "id": "DkFkJrMcVC4q",
        "outputId": "98e63df9-6027-4941-c078-48a5e90341e5"
      },
      "execution_count": 20,
      "outputs": [
        {
          "output_type": "stream",
          "name": "stdout",
          "text": [
            " 66, 37, 58, 39,  4,\n",
            "  5, 47, 29, 28, 55,\n",
            " 69, 42,  *, 32,  3,\n",
            " 14,  7, 26, 62, 40,\n",
            " 30, 75, 25, 49, 45,\n"
          ]
        }
      ]
    },
    {
      "cell_type": "code",
      "source": [],
      "metadata": {
        "id": "07LxkDFlVH3g"
      },
      "execution_count": null,
      "outputs": []
    }
  ]
}