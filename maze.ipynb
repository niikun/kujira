{
  "nbformat": 4,
  "nbformat_minor": 0,
  "metadata": {
    "colab": {
      "provenance": [],
      "authorship_tag": "ABX9TyOyobgFYn6lsCnYt8OhphlR",
      "include_colab_link": true
    },
    "kernelspec": {
      "name": "python3",
      "display_name": "Python 3"
    },
    "language_info": {
      "name": "python"
    }
  },
  "cells": [
    {
      "cell_type": "markdown",
      "metadata": {
        "id": "view-in-github",
        "colab_type": "text"
      },
      "source": [
        "<a href=\"https://colab.research.google.com/github/niikun/kujira/blob/main/maze.ipynb\" target=\"_parent\"><img src=\"https://colab.research.google.com/assets/colab-badge.svg\" alt=\"Open In Colab\"/></a>"
      ]
    },
    {
      "cell_type": "code",
      "source": [
        "s"
      ],
      "metadata": {
        "id": "nBoaA31v36jv"
      },
      "execution_count": null,
      "outputs": []
    },
    {
      "cell_type": "code",
      "execution_count": 13,
      "metadata": {
        "id": "yWqN6fpPzKfZ"
      },
      "outputs": [],
      "source": [
        "import random\n",
        "# 迷路の幅を指定\n",
        "MAP_N = 25\n",
        "\n",
        "# 迷路を初期化\n",
        "maze = []\n",
        "for y in range(0, MAP_N):\n",
        "    maze.append([0 for x in range(0, MAP_N)])\n",
        "\n",
        "# 外周を壁にする\n",
        "for i in range(0,MAP_N):\n",
        "    if i == 0 or i == MAP_N - 1:\n",
        "        for j in range(0,MAP_N):\n",
        "            maze[i][j] = 1\n",
        "    else:\n",
        "        maze[i] = [1]+maze[i][1:-1]+[1]\n",
        "\n",
        "# 2マスに1つ壁を配置\n",
        "for y in range(2,MAP_N-2):\n",
        "    for x in range(2,MAP_N-2):\n",
        "        if x %2 ==1 or y % 2 == 1: continue\n",
        "        maze[y][x] = 1\n",
        "        r = random.randint(0,3)\n",
        "        if r==0: maze[y-1][x] = 1\n",
        "        if r==1: maze[y+1][x] = 1\n",
        "        if r==2: maze[y][x-1] = 1\n",
        "        if r==3: maze[y][x+1] = 1"
      ]
    },
    {
      "cell_type": "code",
      "source": [
        "maze"
      ],
      "metadata": {
        "colab": {
          "base_uri": "https://localhost:8080/"
        },
        "id": "sYoJ_xDUz66J",
        "outputId": "496a3648-da5d-4cfd-9862-f0ee4ea0fe58"
      },
      "execution_count": 14,
      "outputs": [
        {
          "output_type": "execute_result",
          "data": {
            "text/plain": [
              "[[1, 1, 1, 1, 1, 1, 1, 1, 1, 1, 1, 1, 1, 1, 1, 1, 1, 1, 1, 1, 1, 1, 1, 1, 1],\n",
              " [1, 0, 0, 0, 0, 0, 1, 0, 0, 0, 0, 0, 0, 0, 0, 0, 0, 0, 0, 0, 0, 0, 1, 0, 1],\n",
              " [1, 0, 1, 1, 1, 1, 1, 0, 1, 1, 1, 0, 1, 1, 1, 1, 1, 1, 1, 0, 1, 0, 1, 0, 1],\n",
              " [1, 0, 0, 0, 0, 0, 0, 0, 0, 0, 1, 0, 0, 0, 1, 0, 1, 0, 0, 0, 1, 0, 1, 0, 1],\n",
              " [1, 0, 1, 0, 1, 1, 1, 1, 1, 0, 1, 1, 1, 0, 1, 0, 1, 1, 1, 0, 1, 0, 1, 0, 1],\n",
              " [1, 0, 1, 0, 0, 0, 0, 0, 0, 0, 0, 0, 0, 0, 1, 0, 0, 0, 0, 0, 0, 0, 0, 0, 1],\n",
              " [1, 0, 1, 1, 1, 0, 1, 1, 1, 1, 1, 0, 1, 0, 1, 0, 1, 0, 1, 1, 1, 0, 1, 0, 1],\n",
              " [1, 0, 0, 0, 1, 0, 0, 0, 0, 0, 0, 0, 1, 0, 0, 0, 1, 0, 1, 0, 0, 0, 1, 0, 1],\n",
              " [1, 0, 1, 0, 1, 0, 1, 1, 1, 0, 1, 1, 1, 1, 1, 1, 1, 0, 1, 1, 1, 0, 1, 0, 1],\n",
              " [1, 0, 1, 0, 1, 0, 1, 0, 0, 0, 0, 0, 0, 0, 0, 0, 1, 0, 0, 0, 0, 0, 1, 0, 1],\n",
              " [1, 0, 1, 0, 1, 0, 1, 1, 1, 0, 1, 1, 1, 1, 1, 0, 1, 1, 1, 0, 1, 1, 1, 0, 1],\n",
              " [1, 0, 0, 0, 0, 0, 1, 0, 1, 0, 1, 0, 0, 0, 0, 0, 0, 0, 0, 0, 1, 0, 0, 0, 1],\n",
              " [1, 0, 1, 1, 1, 1, 1, 0, 1, 1, 1, 0, 1, 0, 1, 0, 1, 1, 1, 1, 1, 1, 1, 0, 1],\n",
              " [1, 0, 1, 0, 0, 0, 0, 0, 1, 0, 0, 0, 1, 0, 1, 0, 0, 0, 0, 0, 0, 0, 1, 0, 1],\n",
              " [1, 0, 1, 0, 1, 1, 1, 0, 1, 0, 1, 1, 1, 0, 1, 1, 1, 0, 1, 1, 1, 0, 1, 0, 1],\n",
              " [1, 0, 1, 0, 0, 0, 0, 0, 0, 0, 0, 0, 1, 0, 1, 0, 0, 0, 1, 0, 1, 0, 0, 0, 1],\n",
              " [1, 0, 1, 1, 1, 0, 1, 0, 1, 1, 1, 0, 1, 0, 1, 1, 1, 1, 1, 0, 1, 0, 1, 1, 1],\n",
              " [1, 0, 0, 0, 0, 0, 1, 0, 1, 0, 0, 0, 1, 0, 0, 0, 0, 0, 1, 0, 1, 0, 0, 0, 1],\n",
              " [1, 0, 1, 1, 1, 0, 1, 1, 1, 1, 1, 0, 1, 1, 1, 1, 1, 1, 1, 0, 1, 0, 1, 0, 1],\n",
              " [1, 0, 1, 0, 0, 0, 0, 0, 0, 0, 0, 0, 1, 0, 0, 0, 0, 0, 1, 0, 0, 0, 1, 0, 1],\n",
              " [1, 0, 1, 0, 1, 0, 1, 0, 1, 0, 1, 0, 1, 0, 1, 1, 1, 0, 1, 1, 1, 1, 1, 0, 1],\n",
              " [1, 0, 1, 0, 1, 0, 1, 0, 1, 0, 1, 0, 0, 0, 0, 0, 0, 0, 1, 0, 1, 0, 0, 0, 1],\n",
              " [1, 0, 1, 0, 1, 1, 1, 0, 1, 1, 1, 1, 1, 1, 1, 1, 1, 0, 1, 0, 1, 0, 1, 0, 1],\n",
              " [1, 0, 1, 0, 0, 0, 0, 0, 0, 0, 0, 0, 0, 0, 0, 0, 0, 0, 0, 0, 1, 0, 1, 0, 1],\n",
              " [1, 1, 1, 1, 1, 1, 1, 1, 1, 1, 1, 1, 1, 1, 1, 1, 1, 1, 1, 1, 1, 1, 1, 1, 1]]"
            ]
          },
          "metadata": {},
          "execution_count": 14
        }
      ]
    },
    {
      "cell_type": "code",
      "source": [
        "tiles = [\"  \",\"ZZ\"]\n",
        "for y in range(0,MAP_N):\n",
        "    for x in range(0,MAP_N):\n",
        "        print(tiles[maze[y][x]],end=\"\")\n",
        "    print(\"\")"
      ],
      "metadata": {
        "colab": {
          "base_uri": "https://localhost:8080/"
        },
        "id": "39tA4TRy0dMJ",
        "outputId": "cbbbccef-bb8a-40bc-982f-d560f038173d"
      },
      "execution_count": 16,
      "outputs": [
        {
          "output_type": "stream",
          "name": "stdout",
          "text": [
            "ZZZZZZZZZZZZZZZZZZZZZZZZZZZZZZZZZZZZZZZZZZZZZZZZZZ\n",
            "ZZ          ZZ                              ZZ  ZZ\n",
            "ZZ  ZZZZZZZZZZ  ZZZZZZ  ZZZZZZZZZZZZZZ  ZZ  ZZ  ZZ\n",
            "ZZ                  ZZ      ZZ  ZZ      ZZ  ZZ  ZZ\n",
            "ZZ  ZZ  ZZZZZZZZZZ  ZZZZZZ  ZZ  ZZZZZZ  ZZ  ZZ  ZZ\n",
            "ZZ  ZZ                      ZZ                  ZZ\n",
            "ZZ  ZZZZZZ  ZZZZZZZZZZ  ZZ  ZZ  ZZ  ZZZZZZ  ZZ  ZZ\n",
            "ZZ      ZZ              ZZ      ZZ  ZZ      ZZ  ZZ\n",
            "ZZ  ZZ  ZZ  ZZZZZZ  ZZZZZZZZZZZZZZ  ZZZZZZ  ZZ  ZZ\n",
            "ZZ  ZZ  ZZ  ZZ                  ZZ          ZZ  ZZ\n",
            "ZZ  ZZ  ZZ  ZZZZZZ  ZZZZZZZZZZ  ZZZZZZ  ZZZZZZ  ZZ\n",
            "ZZ          ZZ  ZZ  ZZ                  ZZ      ZZ\n",
            "ZZ  ZZZZZZZZZZ  ZZZZZZ  ZZ  ZZ  ZZZZZZZZZZZZZZ  ZZ\n",
            "ZZ  ZZ          ZZ      ZZ  ZZ              ZZ  ZZ\n",
            "ZZ  ZZ  ZZZZZZ  ZZ  ZZZZZZ  ZZZZZZ  ZZZZZZ  ZZ  ZZ\n",
            "ZZ  ZZ                  ZZ  ZZ      ZZ  ZZ      ZZ\n",
            "ZZ  ZZZZZZ  ZZ  ZZZZZZ  ZZ  ZZZZZZZZZZ  ZZ  ZZZZZZ\n",
            "ZZ          ZZ  ZZ      ZZ          ZZ  ZZ      ZZ\n",
            "ZZ  ZZZZZZ  ZZZZZZZZZZ  ZZZZZZZZZZZZZZ  ZZ  ZZ  ZZ\n",
            "ZZ  ZZ                  ZZ          ZZ      ZZ  ZZ\n",
            "ZZ  ZZ  ZZ  ZZ  ZZ  ZZ  ZZ  ZZZZZZ  ZZZZZZZZZZ  ZZ\n",
            "ZZ  ZZ  ZZ  ZZ  ZZ  ZZ              ZZ  ZZ      ZZ\n",
            "ZZ  ZZ  ZZZZZZ  ZZZZZZZZZZZZZZZZZZ  ZZ  ZZ  ZZ  ZZ\n",
            "ZZ  ZZ                                  ZZ  ZZ  ZZ\n",
            "ZZZZZZZZZZZZZZZZZZZZZZZZZZZZZZZZZZZZZZZZZZZZZZZZZZ\n"
          ]
        }
      ]
    },
    {
      "cell_type": "code",
      "source": [],
      "metadata": {
        "id": "m9Ib9K5x527k"
      },
      "execution_count": null,
      "outputs": []
    }
  ]
}